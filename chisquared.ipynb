{
 "cells": [
  {
   "cell_type": "code",
   "execution_count": 12,
   "metadata": {},
   "outputs": [],
   "source": [
    "from scipy.stats import chisquare, chi2, chi2_contingency\n",
    "import numpy as np\n",
    "import pandas as pd"
   ]
  },
  {
   "cell_type": "code",
   "execution_count": 4,
   "metadata": {},
   "outputs": [
    {
     "data": {
      "text/plain": [
       "Power_divergenceResult(statistic=0.72, pvalue=0.3961439091520741)"
      ]
     },
     "execution_count": 4,
     "metadata": {},
     "output_type": "execute_result"
    }
   ],
   "source": [
    "alpha = 0.05\n",
    "\n",
    "chisquare([28,22],[25,25])"
   ]
  },
  {
   "cell_type": "code",
   "execution_count": 7,
   "metadata": {},
   "outputs": [
    {
     "data": {
      "text/plain": [
       "3.841458820694124"
      ]
     },
     "execution_count": 7,
     "metadata": {},
     "output_type": "execute_result"
    }
   ],
   "source": [
    "chi2.ppf(0.95,df=1)"
   ]
  },
  {
   "cell_type": "code",
   "execution_count": 8,
   "metadata": {},
   "outputs": [
    {
     "data": {
      "text/plain": [
       "Power_divergenceResult(statistic=32.0, pvalue=1.5417257900280013e-08)"
      ]
     },
     "execution_count": 8,
     "metadata": {},
     "output_type": "execute_result"
    }
   ],
   "source": [
    "chisquare([45,5],[25,25])"
   ]
  },
  {
   "cell_type": "code",
   "execution_count": 10,
   "metadata": {},
   "outputs": [
    {
     "data": {
      "text/plain": [
       "3.841458820694124"
      ]
     },
     "execution_count": 10,
     "metadata": {},
     "output_type": "execute_result"
    }
   ],
   "source": [
    "chi2.ppf(0.95,df=1)"
   ]
  },
  {
   "cell_type": "code",
   "execution_count": 15,
   "metadata": {},
   "outputs": [
    {
     "data": {
      "text/plain": [
       "Chi2ContingencyResult(statistic=57.04098674049609, pvalue=4.268230756875865e-14, dof=1, expected_freq=array([[484.08710033, 114.91289967],\n",
       "       [248.91289967,  59.08710033]]))"
      ]
     },
     "execution_count": 15,
     "metadata": {},
     "output_type": "execute_result"
    }
   ],
   "source": [
    "observed = [[527,72],[206,102]]\n",
    "\n",
    "chi2_contingency(observed)"
   ]
  },
  {
   "cell_type": "markdown",
   "metadata": {},
   "source": [
    "A national survey was conducted to obtain information on the alcohol consumption patterns of U.S. adults by marital status.\n",
    "A random sample of 1772 residents 18 years old and older yielded the data displayed in Table below:\n",
    "\n",
    "Test whether Marital status and alcohol consumption are associated with a 5% significance level.\n"
   ]
  },
  {
   "cell_type": "code",
   "execution_count": 19,
   "metadata": {},
   "outputs": [
    {
     "data": {
      "text/plain": [
       "Chi2ContingencyResult(statistic=94.26880078578765, pvalue=3.925170647869838e-18, dof=6, expected_freq=array([[117.86681716, 191.18397291,  44.94920993],\n",
       "       [390.55869074, 633.49943567, 148.94187359],\n",
       "       [ 47.61286682,  77.22968397,  18.15744921],\n",
       "       [ 33.96162528,  55.08690745,  12.95146727]]))"
      ]
     },
     "execution_count": 19,
     "metadata": {},
     "output_type": "execute_result"
    }
   ],
   "source": [
    "observed = [[67,213,74],[411,633,129],[85,51,7],[27,60,15]]\n",
    "chi2_contingency(observed)"
   ]
  },
  {
   "cell_type": "markdown",
   "metadata": {},
   "source": [
    "Preventable chronic diseases are increasing rapidly in Native American populations, particularly diabetes.\n",
    "Below is a contingency table showing cross-classification of educational attainment and diabetic state.\n",
    "\n",
    "At the 1% significance level, do the data provide sufficient evidence to conclude that an association\n",
    "exists between educational level and diabetic state for Native Americans?\n"
   ]
  },
  {
   "cell_type": "code",
   "execution_count": 27,
   "metadata": {},
   "outputs": [
    {
     "data": {
      "text/plain": [
       "0.000554511571355531"
      ]
     },
     "execution_count": 27,
     "metadata": {},
     "output_type": "execute_result"
    }
   ],
   "source": [
    "chi_stat, pvalue, df, exp = chi2_contingency([[33,218],[25,389],[20,393],[17,178]])\n",
    "pvalue"
   ]
  },
  {
   "cell_type": "code",
   "execution_count": 23,
   "metadata": {},
   "outputs": [
    {
     "data": {
      "text/plain": [
       "True"
      ]
     },
     "execution_count": 23,
     "metadata": {},
     "output_type": "execute_result"
    }
   ],
   "source": [
    "pvalue < 0.01"
   ]
  },
  {
   "cell_type": "markdown",
   "metadata": {},
   "source": [
    "A worldwide poll on religion was conducted by WIN-Gallup International and published as the document Global Index of\n",
    "Religiosity and Atheism.\n",
    "\n",
    "One question involved religious belief and educational attainment.\n",
    "\n",
    "The following data is based on the answers to that question.\n",
    "\n",
    "At the 5% significance level, do the data provide sufficient evidence to\n",
    "conclude that an association exists between religiosity and education?"
   ]
  },
  {
   "cell_type": "code",
   "execution_count": 28,
   "metadata": {},
   "outputs": [
    {
     "data": {
      "text/plain": [
       "(0.038193742691133806, False)"
      ]
     },
     "execution_count": 28,
     "metadata": {},
     "output_type": "execute_result"
    }
   ],
   "source": [
    "chi_stat, pvalue, df, exp = chi2_contingency([[77,149,78],[23,56,36],[8,24,29],[6,15,8]])\n",
    "pvalue, pvalue < 0.05"
   ]
  },
  {
   "cell_type": "markdown",
   "metadata": {},
   "source": [
    "Nationwide surveys as a public service and for research. This problem is based on the results of one such poll that asked independent random samples of adults in urban, suburban, and rural regions,\n",
    "\n",
    "\"Do you support or oppose requiring background checks for all gun buyers?\"\n",
    "At the 1% significance level, do the data provide sufficient evidence to conclude that there is any association between response and three regions?"
   ]
  },
  {
   "cell_type": "code",
   "execution_count": 29,
   "metadata": {},
   "outputs": [
    {
     "data": {
      "text/plain": [
       "(0.003151828690194211, True)"
      ]
     },
     "execution_count": 29,
     "metadata": {},
     "output_type": "execute_result"
    }
   ],
   "source": [
    "chi_stat, pvalue, df, exp = chi2_contingency([[335,348,318],[35,23,50]])\n",
    "pvalue, pvalue < 0.01"
   ]
  },
  {
   "cell_type": "markdown",
   "metadata": {},
   "source": [
    "A random sample of adults yielded the following data on age and Internet usage.\n",
    "\n",
    "At the 1% significance level,\n",
    "does the data provide sufficient evidence to conclude that an association exists between age and Internet usage?\n",
    "\n"
   ]
  },
  {
   "cell_type": "code",
   "execution_count": 30,
   "metadata": {},
   "outputs": [
    {
     "data": {
      "text/plain": [
       "(2.0217185191724964e-12, True)"
      ]
     },
     "execution_count": 30,
     "metadata": {},
     "output_type": "execute_result"
    }
   ],
   "source": [
    "chi_stat, pvalue, df, exp = chi2_contingency([[6,38,31],[14,31,4],[50,50,5]])\n",
    "pvalue, pvalue < 0.01"
   ]
  },
  {
   "cell_type": "markdown",
   "metadata": {},
   "source": [
    "The U.S. Census Bureau compiles information on money income of people by type of residence and\n",
    "publishes its finding in Current Population Reports.\n",
    "\n",
    "Independent simple random samples of people residing inside principal cities (IPC),\n",
    "outside principal cities but within metropolitan areas (OPC), and outside metropolitan areas (OMA),\n",
    "gave the following data on income level.\n",
    "\n",
    "At the 5% significance level,\n",
    "Does the type of residence is related to income level?"
   ]
  },
  {
   "cell_type": "code",
   "execution_count": 31,
   "metadata": {},
   "outputs": [
    {
     "data": {
      "text/plain": [
       "(0.015293451318673136, True)"
      ]
     },
     "execution_count": 31,
     "metadata": {},
     "output_type": "execute_result"
    }
   ],
   "source": [
    "chi_stat, pvalue, df, exp = chi2_contingency([[75,106,46],[106,161,61],[98,183,52],[48,102,14]])\n",
    "pvalue, pvalue < 0.05"
   ]
  },
  {
   "cell_type": "code",
   "execution_count": null,
   "metadata": {},
   "outputs": [],
   "source": []
  }
 ],
 "metadata": {
  "kernelspec": {
   "display_name": "Python 3",
   "language": "python",
   "name": "python3"
  },
  "language_info": {
   "codemirror_mode": {
    "name": "ipython",
    "version": 3
   },
   "file_extension": ".py",
   "mimetype": "text/x-python",
   "name": "python",
   "nbconvert_exporter": "python",
   "pygments_lexer": "ipython3",
   "version": "3.10.9"
  },
  "orig_nbformat": 4
 },
 "nbformat": 4,
 "nbformat_minor": 2
}
