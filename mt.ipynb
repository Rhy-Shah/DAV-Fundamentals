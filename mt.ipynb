{
 "cells": [
  {
   "cell_type": "code",
   "execution_count": 12,
   "metadata": {},
   "outputs": [],
   "source": [
    "from scipy.stats import norm\n",
    "import numpy as np\n",
    "import pandas as pd\n",
    "from scipy.stats import ttest_1samp, ttest_ind, ttest_rel\n",
    "from scipy.stats import chisquare, chi2, chi2_contingency"
   ]
  },
  {
   "cell_type": "code",
   "execution_count": 13,
   "metadata": {},
   "outputs": [
    {
     "data": {
      "text/plain": [
       "0.003768931730051769"
      ]
     },
     "execution_count": 13,
     "metadata": {},
     "output_type": "execute_result"
    }
   ],
   "source": [
    "cellphone1 = [26.04, 25.12, 27.31, 25.03, 25.06, 27.53, 25.19, 26.6, 24.17, 27.76]\n",
    "cellphone2 = [27.08, 26.13, 27.64, 26.19, 28.71, 28.63, 27.96, 28.62, 26.21, 28.31]\n",
    "\n",
    "t_stat, p_value = ttest_ind(cellphone1, cellphone2)\n",
    "p_value/2"
   ]
  },
  {
   "cell_type": "code",
   "execution_count": 23,
   "metadata": {},
   "outputs": [
    {
     "data": {
      "text/plain": [
       "0.1870424495382044"
      ]
     },
     "execution_count": 23,
     "metadata": {},
     "output_type": "execute_result"
    }
   ],
   "source": [
    "chi_stat, p_value = chisquare([15,17,12,10,6],[12,12,12,12,12])\n",
    "p_value"
   ]
  },
  {
   "cell_type": "code",
   "execution_count": 20,
   "metadata": {},
   "outputs": [
    {
     "data": {
      "text/plain": [
       "TtestResult(statistic=-2.5849213105659876, pvalue=0.018159724339392655, df=19)"
      ]
     },
     "execution_count": 20,
     "metadata": {},
     "output_type": "execute_result"
    }
   ],
   "source": [
    "iq_before = [101,124,89,57,135,98,69,105,114,106,97,121,93,116,102,71,88,108,144,99]\n",
    "iq_after = [113,127,89,70,127,104,69,127,115,99,104,120,95,129,106,71,94,112,154,96]\n",
    "\n",
    "ttest_rel(iq_before, iq_after)"
   ]
  },
  {
   "cell_type": "code",
   "execution_count": 17,
   "metadata": {},
   "outputs": [
    {
     "data": {
      "text/plain": [
       "True"
      ]
     },
     "execution_count": 17,
     "metadata": {},
     "output_type": "execute_result"
    }
   ],
   "source": [
    "p_value < 0.1"
   ]
  },
  {
   "cell_type": "code",
   "execution_count": 28,
   "metadata": {},
   "outputs": [
    {
     "data": {
      "text/plain": [
       "True"
      ]
     },
     "execution_count": 28,
     "metadata": {},
     "output_type": "execute_result"
    }
   ],
   "source": [
    "norm.cdf(loc = 21.50, x = 20.42, scale = 2.7/np.sqrt(45)) < 0.01"
   ]
  },
  {
   "cell_type": "code",
   "execution_count": null,
   "metadata": {},
   "outputs": [],
   "source": []
  },
  {
   "cell_type": "code",
   "execution_count": 26,
   "metadata": {},
   "outputs": [],
   "source": [
    "from scipy.stats import f_oneway, kruskal\n"
   ]
  },
  {
   "cell_type": "code",
   "execution_count": 29,
   "metadata": {},
   "outputs": [
    {
     "data": {
      "text/plain": [
       "F_onewayResult(statistic=0.6033472803347281, pvalue=0.5516494633980511)"
      ]
     },
     "execution_count": 29,
     "metadata": {},
     "output_type": "execute_result"
    }
   ],
   "source": [
    "d1 = [13,10,11,10,13,10,12,10,11,10,13,11,12,9,12]\n",
    "d2 = [10,8,10,10,9,9,7,12,14,12,12,14,14,11,13]\n",
    "d3 = [11,10,9,8,13,9,7,11,10,9,12,8,14,11,14]\n",
    "\n",
    "f_oneway(d1,d2,d3)"
   ]
  },
  {
   "cell_type": "code",
   "execution_count": null,
   "metadata": {},
   "outputs": [],
   "source": []
  }
 ],
 "metadata": {
  "kernelspec": {
   "display_name": "Python 3",
   "language": "python",
   "name": "python3"
  },
  "language_info": {
   "codemirror_mode": {
    "name": "ipython",
    "version": 3
   },
   "file_extension": ".py",
   "mimetype": "text/x-python",
   "name": "python",
   "nbconvert_exporter": "python",
   "pygments_lexer": "ipython3",
   "version": "3.10.9"
  },
  "orig_nbformat": 4
 },
 "nbformat": 4,
 "nbformat_minor": 2
}
